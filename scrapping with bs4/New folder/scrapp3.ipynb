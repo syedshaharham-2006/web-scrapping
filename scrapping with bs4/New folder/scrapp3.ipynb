{
 "cells": [
  {
   "cell_type": "code",
   "execution_count": null,
   "id": "c8f6ea12",
   "metadata": {},
   "outputs": [],
   "source": [
    "import requests\n",
    "from bs4 import BeautifulSoup\n",
    "import csv\n",
    "\n",
    "url = 'https://saamaan.pk/collections/accessories-and-gadgets'\n",
    "content = requests.get(url)\n",
    "soup = BeautifulSoup(content.content, 'html.parser')\n",
    "\n",
    "divs = soup.find_all('div', class_='product-item__info')\n",
    "\n",
    "\n",
    "\n",
    "with open('products.csv', mode='w', newline='', encoding='utf-8') as file:\n",
    "    writer = csv.writer(file)\n",
    "    writer.writerow(['Product Info'])\n",
    "\n",
    "    for div in divs:\n",
    "        vendors = div.find('a', class_='product-item__vendor link')\n",
    "        if vendors:\n",
    "            vendors.decompose()\n",
    "\n",
    "        add_to_cart = div.find('button', class_='product-item__action-button product-item__action-button--list-view-only button button--small button--primary')\n",
    "        if add_to_cart:\n",
    "            add_to_cart.decompose()\n",
    "\n",
    "        quick_view = div.find('button', class_='product-item__action-button product-item__action-button--list-view-only button button--small button--ternary hidden-phone')\n",
    "        if quick_view:\n",
    "            quick_view.decompose()\n",
    "\n",
    "        product_info = div.get_text(separator='\\n', strip=True)\n",
    "\n",
    "        writer.writerow([product_info])\n",
    "\n",
    "print(\"Data saved to products.csv\")\n"
   ]
  }
 ],
 "metadata": {
  "language_info": {
   "name": "python"
  }
 },
 "nbformat": 4,
 "nbformat_minor": 5
}
