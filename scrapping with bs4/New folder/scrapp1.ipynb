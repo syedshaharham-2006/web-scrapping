{
 "cells": [
  {
   "cell_type": "code",
   "execution_count": 1,
   "id": "4ca79d41",
   "metadata": {},
   "outputs": [
    {
     "name": "stdout",
     "output_type": "stream",
     "text": [
      "Audionic Airbud 4\n",
      "Beme Ripper Gaming Earphones\n",
      "Multifunctional Zoom Flashlight With Currency Checker\n",
      "Lenovo HE05 Neckband Bluetooth\n",
      "AYRing Temperature Affect Color Changing Mood Ring\n",
      "X8 Ultra Smartwatch 49MM with Bluetooth Calling\n",
      "Blulory Glifo Smart Watch series 7\n",
      "Gionee Handsfree (Original)\n",
      "Audionic Airbud 2 Max\n",
      "Air Max LCD Display Transparent Earbuds\n",
      "BEME Explorer 22.5W 10000mAH PowerBank\n",
      "M15 Video Game Stick 4K 64G 20000+ Retro Games\n",
      "BEME Explorer Mini 22.5W 5000mAh PowerBank\n",
      "Orafit Mega Smart Watch\n",
      "Transparent Wireless + Bluetooth Dual-Mode Rechargeable Mouse\n",
      "Lenovo LP10 True Wireless Headphones with ENC\n",
      "HiWatch Pro T900 Ultra 2 Smart Watch\n",
      "Audionic Elite E5 Mobile Speaker\n",
      "BEME Buds Pro 2 Max\n",
      "Xcess Pulse I Smart Watch\n",
      "Tiktok,Instagram Bluetooth Remote For Android Phones\n",
      "BEME Explorer PowerBank 2 Max 22.5W 20000mAh with iPhone 15 Supported Chip\n",
      "HryFine Smart Bracelet\n",
      "BEME Venom Gaming Buds\n"
     ]
    }
   ],
   "source": [
    "from bs4 import BeautifulSoup\n",
    "\n",
    "import requests\n",
    "\n",
    "url = 'https://saamaan.pk/collections/accessories-and-gadgets'\n",
    "\n",
    "content = requests.get(url)\n",
    "\n",
    "soup = BeautifulSoup(content.content, 'html.parser')\n",
    "\n",
    "product_names = soup.find_all('a' , class_='product-item__title text--strong link')\n",
    "\n",
    "prices = soup.find_all('span', class_='')\n",
    "\n",
    "for product_name in product_names:\n",
    "    print(product_name.text)"
   ]
  }
 ],
 "metadata": {
  "kernelspec": {
   "display_name": "Python 3",
   "language": "python",
   "name": "python3"
  },
  "language_info": {
   "codemirror_mode": {
    "name": "ipython",
    "version": 3
   },
   "file_extension": ".py",
   "mimetype": "text/x-python",
   "name": "python",
   "nbconvert_exporter": "python",
   "pygments_lexer": "ipython3",
   "version": "3.13.5"
  }
 },
 "nbformat": 4,
 "nbformat_minor": 5
}
